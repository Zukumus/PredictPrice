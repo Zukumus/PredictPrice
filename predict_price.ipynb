{
  "nbformat": 4,
  "nbformat_minor": 0,
  "metadata": {
    "colab": {
      "name": "predict_price.ipynb",
      "provenance": [],
      "collapsed_sections": [],
      "authorship_tag": "ABX9TyPYncL8CeAIlEeI4lh7Nt+S",
      "include_colab_link": true
    },
    "kernelspec": {
      "name": "python3",
      "display_name": "Python 3"
    },
    "language_info": {
      "name": "python"
    }
  },
  "cells": [
    {
      "cell_type": "markdown",
      "metadata": {
        "id": "view-in-github",
        "colab_type": "text"
      },
      "source": [
        "<a href=\"https://colab.research.google.com/github/Zukumus/PredictPrice/blob/main/predict_price.ipynb\" target=\"_parent\"><img src=\"https://colab.research.google.com/assets/colab-badge.svg\" alt=\"Open In Colab\"/></a>"
      ]
    },
    {
      "cell_type": "code",
      "metadata": {
        "id": "ZnwwFPXSIbgn"
      },
      "source": [
        "import pandas as pd\n",
        "from datetime import timedelta\n",
        "import numpy as np\n",
        "import tensorflow as tf\n",
        "from sklearn.preprocessing import StandardScaler\n",
        "from sklearn.metrics import mean_absolute_error\n",
        "from matplotlib import pyplot as plt\n",
        "from typing import List"
      ],
      "execution_count": 326,
      "outputs": []
    },
    {
      "cell_type": "code",
      "metadata": {
        "id": "Pl4BpEaq1O4q"
      },
      "source": [
        "# перводим в нужный тип, работаем с датами, переводим в тип ДАТА\n",
        "aapl_df = pd.read_csv('/content/aapl.csv', parse_dates=['Date'])"
      ],
      "execution_count": 327,
      "outputs": []
    },
    {
      "cell_type": "code",
      "metadata": {
        "colab": {
          "base_uri": "https://localhost:8080/"
        },
        "id": "S5Cr1fsa1ZEO",
        "outputId": "ac2fd872-cf0a-4ec8-8e6c-51adcaada8f2"
      },
      "source": [
        "print(aapl_df)"
      ],
      "execution_count": 328,
      "outputs": [
        {
          "output_type": "stream",
          "name": "stdout",
          "text": [
            "           Date       Open       High        Low      Close    Volume  OpenInt\n",
            "0    1984-09-07    0.42388    0.42902    0.41874    0.42388  23220030        0\n",
            "1    1984-09-10    0.42388    0.42516    0.41366    0.42134  18022532        0\n",
            "2    1984-09-11    0.42516    0.43668    0.42516    0.42902  42498199        0\n",
            "3    1984-09-12    0.42902    0.43157    0.41618    0.41618  37125801        0\n",
            "4    1984-09-13    0.43927    0.44052    0.43927    0.43927  57822062        0\n",
            "...         ...        ...        ...        ...        ...       ...      ...\n",
            "8359 2017-11-06  171.75000  174.36000  171.10000  173.63000  34901241        0\n",
            "8360 2017-11-07  173.29000  174.51000  173.29000  174.18000  24424877        0\n",
            "8361 2017-11-08  174.03000  175.61000  173.71000  175.61000  24451166        0\n",
            "8362 2017-11-09  174.48000  175.46000  172.52000  175.25000  29533086        0\n",
            "8363 2017-11-10  175.11000  175.38000  174.27000  174.67000  25130494        0\n",
            "\n",
            "[8364 rows x 7 columns]\n"
          ]
        }
      ]
    },
    {
      "cell_type": "code",
      "metadata": {
        "colab": {
          "base_uri": "https://localhost:8080/",
          "height": 111
        },
        "id": "gNV1qFMq1jhW",
        "outputId": "2c1ed67e-7058-4b4a-f50e-9155fcebe496"
      },
      "source": [
        "aapl_df.head(2)"
      ],
      "execution_count": 329,
      "outputs": [
        {
          "output_type": "execute_result",
          "data": {
            "text/html": [
              "<div>\n",
              "<style scoped>\n",
              "    .dataframe tbody tr th:only-of-type {\n",
              "        vertical-align: middle;\n",
              "    }\n",
              "\n",
              "    .dataframe tbody tr th {\n",
              "        vertical-align: top;\n",
              "    }\n",
              "\n",
              "    .dataframe thead th {\n",
              "        text-align: right;\n",
              "    }\n",
              "</style>\n",
              "<table border=\"1\" class=\"dataframe\">\n",
              "  <thead>\n",
              "    <tr style=\"text-align: right;\">\n",
              "      <th></th>\n",
              "      <th>Date</th>\n",
              "      <th>Open</th>\n",
              "      <th>High</th>\n",
              "      <th>Low</th>\n",
              "      <th>Close</th>\n",
              "      <th>Volume</th>\n",
              "      <th>OpenInt</th>\n",
              "    </tr>\n",
              "  </thead>\n",
              "  <tbody>\n",
              "    <tr>\n",
              "      <th>0</th>\n",
              "      <td>1984-09-07</td>\n",
              "      <td>0.42388</td>\n",
              "      <td>0.42902</td>\n",
              "      <td>0.41874</td>\n",
              "      <td>0.42388</td>\n",
              "      <td>23220030</td>\n",
              "      <td>0</td>\n",
              "    </tr>\n",
              "    <tr>\n",
              "      <th>1</th>\n",
              "      <td>1984-09-10</td>\n",
              "      <td>0.42388</td>\n",
              "      <td>0.42516</td>\n",
              "      <td>0.41366</td>\n",
              "      <td>0.42134</td>\n",
              "      <td>18022532</td>\n",
              "      <td>0</td>\n",
              "    </tr>\n",
              "  </tbody>\n",
              "</table>\n",
              "</div>"
            ],
            "text/plain": [
              "        Date     Open     High      Low    Close    Volume  OpenInt\n",
              "0 1984-09-07  0.42388  0.42902  0.41874  0.42388  23220030        0\n",
              "1 1984-09-10  0.42388  0.42516  0.41366  0.42134  18022532        0"
            ]
          },
          "metadata": {},
          "execution_count": 329
        }
      ]
    },
    {
      "cell_type": "code",
      "metadata": {
        "colab": {
          "base_uri": "https://localhost:8080/"
        },
        "id": "u9UwUHrg2RGx",
        "outputId": "cb975e6d-b87a-422f-9508-c83c2a5ecb9d"
      },
      "source": [
        "# выведим минимум и максимум\n",
        "aapl_df['Date'].min(),aapl_df['Date'].max()"
      ],
      "execution_count": 330,
      "outputs": [
        {
          "output_type": "execute_result",
          "data": {
            "text/plain": [
              "(Timestamp('1984-09-07 00:00:00'), Timestamp('2017-11-10 00:00:00'))"
            ]
          },
          "metadata": {},
          "execution_count": 330
        }
      ]
    },
    {
      "cell_type": "code",
      "metadata": {
        "colab": {
          "base_uri": "https://localhost:8080/",
          "height": 286
        },
        "id": "XaMriJxI2tLL",
        "outputId": "bfd6f046-63af-4882-969c-3d7059148cf8"
      },
      "source": [
        "# вывести график зависимости  на старте и даты\n",
        "aapl_df.plot(x='Date',y='Open')"
      ],
      "execution_count": 331,
      "outputs": [
        {
          "output_type": "execute_result",
          "data": {
            "text/plain": [
              "<matplotlib.axes._subplots.AxesSubplot at 0x7f959b68e990>"
            ]
          },
          "metadata": {},
          "execution_count": 331
        },
        {
          "output_type": "display_data",
          "data": {
            "image/png": "[encoded data removed]",
            "text/plain": [
              "<Figure size 432x288 with 1 Axes>"
            ]
          },
          "metadata": {
            "needs_background": "light"
          }
        }
      ]
    },
    {
      "cell_type": "code",
      "metadata": {
        "colab": {
          "base_uri": "https://localhost:8080/",
          "height": 286
        },
        "id": "o5pADBZa3VKG",
        "outputId": "46cf9c0e-8e13-4db7-f5e4-2126665d8436"
      },
      "source": [
        "# вывести график зависимости цены максимум и даты\n",
        "aapl_df.plot(x='Date',y='High')"
      ],
      "execution_count": 332,
      "outputs": [
        {
          "output_type": "execute_result",
          "data": {
            "text/plain": [
              "<matplotlib.axes._subplots.AxesSubplot at 0x7f959b6e7a50>"
            ]
          },
          "metadata": {},
          "execution_count": 332
        },
        {
          "output_type": "display_data",
          "data": {
            "image/png": "[encoded data removed]",
            "text/plain": [
              "<Figure size 432x288 with 1 Axes>"
            ]
          },
          "metadata": {
            "needs_background": "light"
          }
        }
      ]
    },
    {
      "cell_type": "code",
      "metadata": {
        "colab": {
          "base_uri": "https://localhost:8080/",
          "height": 173
        },
        "id": "hS0YxyYB4MdG",
        "outputId": "9acb96e2-ac7c-47ea-b9ca-b5f295bb66cc"
      },
      "source": [
        "# корреляци зависимости цен от показателей\n",
        "aapl_df[['Open','Close','Low','High',\t]].corr()"
      ],
      "execution_count": 333,
      "outputs": [
        {
          "output_type": "execute_result",
          "data": {
            "text/html": [
              "<div>\n",
              "<style scoped>\n",
              "    .dataframe tbody tr th:only-of-type {\n",
              "        vertical-align: middle;\n",
              "    }\n",
              "\n",
              "    .dataframe tbody tr th {\n",
              "        vertical-align: top;\n",
              "    }\n",
              "\n",
              "    .dataframe thead th {\n",
              "        text-align: right;\n",
              "    }\n",
              "</style>\n",
              "<table border=\"1\" class=\"dataframe\">\n",
              "  <thead>\n",
              "    <tr style=\"text-align: right;\">\n",
              "      <th></th>\n",
              "      <th>Open</th>\n",
              "      <th>Close</th>\n",
              "      <th>Low</th>\n",
              "      <th>High</th>\n",
              "    </tr>\n",
              "  </thead>\n",
              "  <tbody>\n",
              "    <tr>\n",
              "      <th>Open</th>\n",
              "      <td>1.000000</td>\n",
              "      <td>0.999902</td>\n",
              "      <td>0.999942</td>\n",
              "      <td>0.999956</td>\n",
              "    </tr>\n",
              "    <tr>\n",
              "      <th>Close</th>\n",
              "      <td>0.999902</td>\n",
              "      <td>1.000000</td>\n",
              "      <td>0.999955</td>\n",
              "      <td>0.999953</td>\n",
              "    </tr>\n",
              "    <tr>\n",
              "      <th>Low</th>\n",
              "      <td>0.999942</td>\n",
              "      <td>0.999955</td>\n",
              "      <td>1.000000</td>\n",
              "      <td>0.999928</td>\n",
              "    </tr>\n",
              "    <tr>\n",
              "      <th>High</th>\n",
              "      <td>0.999956</td>\n",
              "      <td>0.999953</td>\n",
              "      <td>0.999928</td>\n",
              "      <td>1.000000</td>\n",
              "    </tr>\n",
              "  </tbody>\n",
              "</table>\n",
              "</div>"
            ],
            "text/plain": [
              "           Open     Close       Low      High\n",
              "Open   1.000000  0.999902  0.999942  0.999956\n",
              "Close  0.999902  1.000000  0.999955  0.999953\n",
              "Low    0.999942  0.999955  1.000000  0.999928\n",
              "High   0.999956  0.999953  0.999928  1.000000"
            ]
          },
          "metadata": {},
          "execution_count": 333
        }
      ]
    },
    {
      "cell_type": "code",
      "metadata": {
        "id": "FG6l4NO2477x"
      },
      "source": [
        "# возьмём последние 6 лет \n",
        "aapl_df_6year=aapl_df[aapl_df['Date']>aapl_df['Date'].max()-timedelta(days=365*6)]"
      ],
      "execution_count": 334,
      "outputs": []
    },
    {
      "cell_type": "code",
      "metadata": {
        "colab": {
          "base_uri": "https://localhost:8080/"
        },
        "id": "TyK6Nvy85_O8",
        "outputId": "c14b117d-bc77-43cd-dde8-5d995a7729ee"
      },
      "source": [
        "aapl_df_6year.shape"
      ],
      "execution_count": 335,
      "outputs": [
        {
          "output_type": "execute_result",
          "data": {
            "text/plain": [
              "(1509, 7)"
            ]
          },
          "metadata": {},
          "execution_count": 335
        }
      ]
    },
    {
      "cell_type": "code",
      "metadata": {
        "id": "OoLETuim6Ce5"
      },
      "source": [
        "train_size = int(aapl_df_6year.shape[0]*0.8)\n",
        "train_aapl_df = aapl_df_6year.iloc[:train_size]\n",
        "test_aapl_df = aapl_df_6year.iloc[train_size:] \n"
      ],
      "execution_count": 336,
      "outputs": []
    },
    {
      "cell_type": "code",
      "metadata": {
        "colab": {
          "base_uri": "https://localhost:8080/"
        },
        "id": "xmhYTHQB6_sf",
        "outputId": "12d6a3b5-9870-4ec1-9487-27babb64de8b"
      },
      "source": [
        "train_aapl_df.shape, test_aapl_df.shape"
      ],
      "execution_count": 337,
      "outputs": [
        {
          "output_type": "execute_result",
          "data": {
            "text/plain": [
              "((1207, 7), (302, 7))"
            ]
          },
          "metadata": {},
          "execution_count": 337
        }
      ]
    },
    {
      "cell_type": "code",
      "metadata": {
        "colab": {
          "base_uri": "https://localhost:8080/"
        },
        "id": "8qw7Ybz07Rgh",
        "outputId": "a23194d4-ab09-49a3-b5c0-3d11726b5bd7"
      },
      "source": [
        "train_aapl_df['Date'].min(),train_aapl_df['Date'].max(),test_aapl_df['Date'].min(),test_aapl_df['Date'].max(),"
      ],
      "execution_count": 338,
      "outputs": [
        {
          "output_type": "execute_result",
          "data": {
            "text/plain": [
              "(Timestamp('2011-11-14 00:00:00'),\n",
              " Timestamp('2016-08-31 00:00:00'),\n",
              " Timestamp('2016-09-01 00:00:00'),\n",
              " Timestamp('2017-11-10 00:00:00'))"
            ]
          },
          "metadata": {},
          "execution_count": 338
        }
      ]
    },
    {
      "cell_type": "code",
      "metadata": {
        "id": "Q-VtMFbf8nhk"
      },
      "source": [
        "# масштабируем для нормализации из библиотеки Scikit-learn\n",
        "scaler = StandardScaler()\n",
        "scaler.fit(train_aapl_df[['Low']])\n",
        "\n",
        "def make_dataset(\n",
        "  # количество используемых элементов для предсказания следующего\n",
        "    df,\n",
        "  # размер партии элементов\n",
        "    window_size,\n",
        "  # размер партии элементов для обучения\n",
        "    batch_size,\n",
        "    use_scaler=True,\n",
        "  # смешивание параметров\n",
        "    shuffle=True\n",
        "    ):\n",
        "  # вычитаем признаки для предсказания\n",
        "  features = df[['Low']].iloc[:-window_size]\n",
        "  if use_scaler:\n",
        "    features = scaler.transform(features)\n",
        "  data = np.array(features, dtype=np.float32)\n",
        "    # tensorflow\n",
        "  ds = tf.keras.preprocessing.timeseries_dataset_from_array(\n",
        "      data=data,\n",
        "      # берём лэйбл который предсказываем\n",
        "      targets=df['Low'].iloc[window_size:],\n",
        "    # сдвиг элементов для создания нового элемента, т.е. последовательность шагов\n",
        "      sequence_length=window_size,\n",
        "    # сдвиг элементов для создания нового элемента, т.е. последовательность шагов\n",
        "      sequence_stride=1,\n",
        "      shuffle=shuffle,\n",
        "      batch_size=batch_size,\n",
        "      )\n",
        "  return ds"
      ],
      "execution_count": 339,
      "outputs": []
    },
    {
      "cell_type": "code",
      "metadata": {
        "id": "jUl1gDzGchrE"
      },
      "source": [
        "example_ds = make_dataset(df=train_aapl_df,window_size=3,batch_size=2,use_scaler=False,shuffle=False)"
      ],
      "execution_count": 340,
      "outputs": []
    },
    {
      "cell_type": "code",
      "metadata": {
        "id": "KNJmJnL1nzx9"
      },
      "source": [
        "example_feature, example_label = next(example_ds.as_numpy_iterator())"
      ],
      "execution_count": 341,
      "outputs": []
    },
    {
      "cell_type": "code",
      "metadata": {
        "colab": {
          "base_uri": "https://localhost:8080/"
        },
        "id": "Bd62cLNq7nHw",
        "outputId": "ef784917-906a-4006-ceca-0822e6c15191"
      },
      "source": [
        "example_feature.shape\n",
        "# size batch\n",
        "# size window\n",
        "# size feature"
      ],
      "execution_count": 342,
      "outputs": [
        {
          "output_type": "execute_result",
          "data": {
            "text/plain": [
              "(2, 3, 1)"
            ]
          },
          "metadata": {},
          "execution_count": 342
        }
      ]
    },
    {
      "cell_type": "code",
      "metadata": {
        "colab": {
          "base_uri": "https://localhost:8080/"
        },
        "id": "mcMVZ9rhpmxL",
        "outputId": "b8747df1-ebc2-45a7-e5ad-2c2745a9c240"
      },
      "source": [
        "example_label.shape"
      ],
      "execution_count": 343,
      "outputs": [
        {
          "output_type": "execute_result",
          "data": {
            "text/plain": [
              "(2,)"
            ]
          },
          "metadata": {},
          "execution_count": 343
        }
      ]
    },
    {
      "cell_type": "code",
      "metadata": {
        "colab": {
          "base_uri": "https://localhost:8080/"
        },
        "id": "CWcikln-oJzd",
        "outputId": "9d62dce2-bad6-41c6-b1ee-e271224112c3"
      },
      "source": [
        "train_aapl_df['Low'].iloc[:6]"
      ],
      "execution_count": 344,
      "outputs": [
        {
          "output_type": "execute_result",
          "data": {
            "text/plain": [
              "6855    48.432\n",
              "6856    48.592\n",
              "6857    49.217\n",
              "6858    48.086\n",
              "6859    48.009\n",
              "6860    46.860\n",
              "Name: Low, dtype: float64"
            ]
          },
          "metadata": {},
          "execution_count": 344
        }
      ]
    },
    {
      "cell_type": "markdown",
      "metadata": {
        "id": "MRxp3a8F6vjh"
      },
      "source": [
        ""
      ]
    },
    {
      "cell_type": "code",
      "metadata": {
        "colab": {
          "base_uri": "https://localhost:8080/"
        },
        "id": "crMFrw5j2vd_",
        "outputId": "c16892e1-eec2-4b43-eea8-ae92955c497f"
      },
      "source": [
        "print(example_feature[0])\n",
        "print(example_label[0])\n",
        "print(example_feature[1])\n",
        "print(example_label[1])\n",
        "# первые три элемента признак, следующй лабел. это настраивается"
      ],
      "execution_count": 345,
      "outputs": [
        {
          "output_type": "stream",
          "name": "stdout",
          "text": [
            "[[48.432]\n",
            " [48.592]\n",
            " [49.217]]\n",
            "48.086000000000006\n",
            "[[48.592]\n",
            " [49.217]\n",
            " [48.086]]\n",
            "48.00899999999999\n"
          ]
        }
      ]
    },
    {
      "cell_type": "code",
      "metadata": {
        "id": "Q7yTvZuI3G-C"
      },
      "source": [
        "window_size = 10\n",
        "batch_size = 8\n",
        "train_ds = make_dataset(df=train_aapl_df,window_size=window_size,batch_size=batch_size,use_scaler=True,shuffle=True)\n",
        "test_ds = make_dataset(df=test_aapl_df,window_size=window_size,batch_size=batch_size,use_scaler=True,shuffle=True)"
      ],
      "execution_count": 346,
      "outputs": []
    },
    {
      "cell_type": "code",
      "metadata": {
        "id": "bcQEzYVlKomN"
      },
      "source": [
        "# Sequential слои выполняються последовательно\n",
        "lstm_model = tf.keras.models.Sequential([\n",
        "# LSTM слой рекурентной сети,нужен когда важно обучение последовательно, на основании предыдузего опыта(текст, времённой ряд)\n",
        "    tf.keras.layers.LSTM(32, return_sequences=False),\n",
        "# Борьба с переобучением\n",
        "    # tf.keras.layers.Dropout(0.2)\n",
        "# приводим данные в один элемент(тот который ищем)\n",
        "    tf.keras.layers.Dense(1)\n",
        "])"
      ],
      "execution_count": 347,
      "outputs": []
    },
    {
      "cell_type": "code",
      "metadata": {
        "id": "nPhhmB6lLxES"
      },
      "source": [
        "def compile_and_fit(model, train_ds,test_ds,num_epochs: int=20):\n",
        "  model.compile(\n",
        "  # функция потерь для обучения\n",
        "      loss=tf.losses.MeanAbsoluteError(),\n",
        "  # оптимизатор потерь\n",
        "      optimizer=tf.optimizers.Adam(),\n",
        "  # вывод метрик и отклонений\n",
        "      metrics=[tf.metrics.MeanAbsoluteError()]\n",
        "  )\n",
        "  history=model.fit(\n",
        "  # на чём обучаме и сколько раз\n",
        "      train_ds,\n",
        "      epochs=num_epochs,\n",
        "  # нужно для понимания, переобучается наша модель или нет(переобучение это плохо)\n",
        "      validation_data=test_ds,\n",
        "      verbose=0\n",
        "  )\n",
        "  return history"
      ],
      "execution_count": 348,
      "outputs": []
    },
    {
      "cell_type": "code",
      "metadata": {
        "id": "V3wXtkH5MOAj"
      },
      "source": [
        "history = compile_and_fit(lstm_model,train_ds,test_ds,num_epochs=100)"
      ],
      "execution_count": 349,
      "outputs": []
    },
    {
      "cell_type": "code",
      "metadata": {
        "colab": {
          "base_uri": "https://localhost:8080/",
          "height": 282
        },
        "id": "0_Vra_ZFNvBC",
        "outputId": "98f551a6-288f-47e5-e627-c99f6ba42b6a"
      },
      "source": [
        "plt.plot(history.history['mean_absolute_error'])"
      ],
      "execution_count": 350,
      "outputs": [
        {
          "output_type": "execute_result",
          "data": {
            "text/plain": [
              "[<matplotlib.lines.Line2D at 0x7f95a5395e90>]"
            ]
          },
          "metadata": {},
          "execution_count": 350
        },
        {
          "output_type": "display_data",
          "data": {
            "image/png": "[encoded data removed]",
            "text/plain": [
              "<Figure size 432x288 with 1 Axes>"
            ]
          },
          "metadata": {
            "needs_background": "light"
          }
        }
      ]
    },
    {
      "cell_type": "code",
      "metadata": {
        "colab": {
          "base_uri": "https://localhost:8080/",
          "height": 282
        },
        "id": "FD39Ni1uQx5B",
        "outputId": "0c3f7d12-388d-4c8e-ef6d-f493a75044b3"
      },
      "source": [
        "plt.plot(history.history['val_mean_absolute_error'])"
      ],
      "execution_count": 351,
      "outputs": [
        {
          "output_type": "execute_result",
          "data": {
            "text/plain": [
              "[<matplotlib.lines.Line2D at 0x7f959f3d80d0>]"
            ]
          },
          "metadata": {},
          "execution_count": 351
        },
        {
          "output_type": "display_data",
          "data": {
            "image/png": "[encoded data removed]",
            "text/plain": [
              "<Figure size 432x288 with 1 Axes>"
            ]
          },
          "metadata": {
            "needs_background": "light"
          }
        }
      ]
    },
    {
      "cell_type": "code",
      "metadata": {
        "colab": {
          "base_uri": "https://localhost:8080/"
        },
        "id": "tOwPZOLaU7zJ",
        "outputId": "f913a36e-ce6b-45a8-e57d-bec36cb928a1"
      },
      "source": [
        "lstm_model.evaluate(train_ds)"
      ],
      "execution_count": 352,
      "outputs": [
        {
          "output_type": "stream",
          "name": "stdout",
          "text": [
            "149/149 [==============================] - 0s 3ms/step - loss: 1.0560 - mean_absolute_error: 1.0560\n"
          ]
        },
        {
          "output_type": "execute_result",
          "data": {
            "text/plain": [
              "[1.0560221672058105, 1.0560221672058105]"
            ]
          },
          "metadata": {},
          "execution_count": 352
        }
      ]
    },
    {
      "cell_type": "code",
      "metadata": {
        "colab": {
          "base_uri": "https://localhost:8080/"
        },
        "id": "qB3zWAS9X4hQ",
        "outputId": "6b614caf-5ab1-4c31-a348-4362dfeee768"
      },
      "source": [
        "lstm_model.evaluate(test_ds)"
      ],
      "execution_count": 353,
      "outputs": [
        {
          "output_type": "stream",
          "name": "stdout",
          "text": [
            "36/36 [==============================] - 0s 3ms/step - loss: 12.3736 - mean_absolute_error: 12.3736\n"
          ]
        },
        {
          "output_type": "execute_result",
          "data": {
            "text/plain": [
              "[12.373579978942871, 12.373579978942871]"
            ]
          },
          "metadata": {},
          "execution_count": 353
        }
      ]
    },
    {
      "cell_type": "code",
      "metadata": {
        "id": "Vu997La4X74P"
      },
      "source": [
        "# Sequential слои выполняються последовательно\n",
        "lstm_model = tf.keras.models.Sequential([\n",
        "# LSTM слой рекурентной сети,нужен когда важно обучение последовательно, на основании предыдузего опыта(текст, времённой ряд)\n",
        "    tf.keras.layers.LSTM(32, return_sequences=False),\n",
        "# Борьба с переобучением\n",
        "    tf.keras.layers.Dropout(0.2),\n",
        "# приводим данные в один элемент(тот который ищем)\n",
        "    tf.keras.layers.Dense(1),\n",
        "])"
      ],
      "execution_count": 354,
      "outputs": []
    },
    {
      "cell_type": "code",
      "metadata": {
        "id": "E8mAu2TSfIHN"
      },
      "source": [
        "history = compile_and_fit(lstm_model,train_ds,test_ds,num_epochs=1000)"
      ],
      "execution_count": null,
      "outputs": []
    },
    {
      "cell_type": "code",
      "metadata": {
        "colab": {
          "base_uri": "https://localhost:8080/"
        },
        "id": "rdb73S7esMJS",
        "outputId": "90a1e0c5-2a38-4c75-9f86-fbf5181e525b"
      },
      "source": [
        "lstm_model.evaluate(train_ds)"
      ],
      "execution_count": 364,
      "outputs": [
        {
          "output_type": "stream",
          "name": "stdout",
          "text": [
            "149/149 [==============================] - 0s 3ms/step - loss: 1.0391 - mean_absolute_error: 1.0391\n"
          ]
        },
        {
          "output_type": "execute_result",
          "data": {
            "text/plain": [
              "[1.0391201972961426, 1.0391201972961426]"
            ]
          },
          "metadata": {},
          "execution_count": 364
        }
      ]
    },
    {
      "cell_type": "code",
      "metadata": {
        "colab": {
          "base_uri": "https://localhost:8080/",
          "height": 282
        },
        "id": "a5aMhQozsY6P",
        "outputId": "e5715185-5ddd-418a-f598-602882266ab3"
      },
      "source": [
        "plt.plot(history.history['mean_absolute_error'])"
      ],
      "execution_count": 360,
      "outputs": [
        {
          "output_type": "execute_result",
          "data": {
            "text/plain": [
              "[<matplotlib.lines.Line2D at 0x7f95a0654790>]"
            ]
          },
          "metadata": {},
          "execution_count": 360
        },
        {
          "output_type": "display_data",
          "data": {
            "image/png": "[encoded data removed]",
            "text/plain": [
              "<Figure size 432x288 with 1 Axes>"
            ]
          },
          "metadata": {
            "needs_background": "light"
          }
        }
      ]
    },
    {
      "cell_type": "code",
      "metadata": {
        "colab": {
          "base_uri": "https://localhost:8080/"
        },
        "id": "ajHG7Ei3sN2y",
        "outputId": "e2cbe9df-7d34-489a-ff62-f2e37b22f233"
      },
      "source": [
        "lstm_model.evaluate(test_ds)"
      ],
      "execution_count": 359,
      "outputs": [
        {
          "output_type": "stream",
          "name": "stdout",
          "text": [
            "36/36 [==============================] - 0s 3ms/step - loss: 5.0972 - mean_absolute_error: 5.0972\n"
          ]
        },
        {
          "output_type": "execute_result",
          "data": {
            "text/plain": [
              "[5.097174644470215, 5.097174644470215]"
            ]
          },
          "metadata": {},
          "execution_count": 359
        }
      ]
    },
    {
      "cell_type": "code",
      "metadata": {
        "colab": {
          "base_uri": "https://localhost:8080/",
          "height": 282
        },
        "id": "NLlARTRTsfSJ",
        "outputId": "169c3014-ffce-446c-fca4-a11dab09b983"
      },
      "source": [
        "plt.plot(history.history['val_mean_absolute_error'])"
      ],
      "execution_count": 361,
      "outputs": [
        {
          "output_type": "execute_result",
          "data": {
            "text/plain": [
              "[<matplotlib.lines.Line2D at 0x7f959f036350>]"
            ]
          },
          "metadata": {},
          "execution_count": 361
        },
        {
          "output_type": "display_data",
          "data": {
            "image/png": "[encoded data removed]",
            "text/plain": [
              "<Figure size 432x288 with 1 Axes>"
            ]
          },
          "metadata": {
            "needs_background": "light"
          }
        }
      ]
    },
    {
      "cell_type": "code",
      "metadata": {
        "id": "xKQPh_YmsRrs"
      },
      "source": [
        ""
      ],
      "execution_count": null,
      "outputs": []
    }
  ]
}